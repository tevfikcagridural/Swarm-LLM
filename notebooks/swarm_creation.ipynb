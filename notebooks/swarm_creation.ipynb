{
 "cells": [
  {
   "cell_type": "code",
   "execution_count": 1,
   "metadata": {},
   "outputs": [],
   "source": [
    "import openai\n",
    "from openai import OpenAI\n",
    "from dotenv import load_dotenv\n",
    "import os\n",
    "from typing import List, Dict\n",
    "import math\n",
    "import time \n",
    "load_dotenv()\n",
    "openai.OPENAI_API_KEY = os.environ.get(\"OPENAI_API_KEY\")\n"
   ]
  },
  {
   "cell_type": "markdown",
   "metadata": {},
   "source": [
    "# Chat Completion as Attendee"
   ]
  },
  {
   "cell_type": "code",
   "execution_count": 7,
   "metadata": {},
   "outputs": [],
   "source": [
    "class Attendee():\n",
    "    def __init__(self, model: str=\"gpt-3.5-turbo\", temperature: float=1) -> None:\n",
    "        self.client = OpenAI()\n",
    "        self.model = model\n",
    "        self.temperature = temperature\n",
    "        self.messages = [\n",
    "            {\"role\": \"system\", \"content\": \"\"\"\"\n",
    "                    You are an attendee of a committee tasked with deciding the best location for the company's new office building.\n",
    "                    The committee will use an active and open voting system consisting of three main components:\n",
    "\n",
    "                    1. Decision Space: A 2D space containing the coordinates of the location options the committee must decide on. \n",
    "                    The coordinates do not imply any inherent advantages, and all options are equidistant from the origin.\n",
    "\n",
    "                    2. Decision Mark: A marker representing the committee's collective decision. \n",
    "                    When the Decision Mark remains on an option for 3 consecutive turns, the system accepts it as the final decision, concluding the voting process.\n",
    "\n",
    "                    3. Attendee Marks: Each attendee has a personal marker that they can freely position to influence the Decision Mark. \n",
    "                    Attendee Marks act as magnets, pulling the Decision Mark towards their preferred option. \n",
    "                    The closer the Attendee Mark is to the Decision Marker, the stronger its pull. \n",
    "                    However, you CAN NOT PLACE your marker right ON TOP the Decision Mark! LEAVE AT LEAST 0.01 UNITS from the Decision Mark.  \n",
    "\n",
    "                    In each turn, you will receive two pieces of data:\n",
    "                    - Decision Mark coordinates (DM_XY)\n",
    "                    - Coordinates of every attendee's marker on previous turn [A1_XY, A2_XY, ...]\n",
    "\n",
    "                    The voting continues until a final decision is reached, and attendees can change their opinions based on the current situation.\n",
    "                    When the voting ends the attendees will be asked to describe their decision and voting process. Therefore, VOTING DECISIONS MUST BE REASONABLE. \n",
    "\n",
    "                    The location options are:\n",
    "                    - City A: Lower cost of living, but limited access to talent pool. A_XY = [1,1]\n",
    "                    - City B: Thriving tech industry, but higher competition. B_XY = [1,-1]\n",
    "                    - City C: Favorable tax incentives, but less developed infrastructure. C_XY = [-1,1]\n",
    "                    - City D: Proximity to key clients, but higher operational costs. D_XY = [-1,-1]\n",
    "\n",
    "                    INSTRUCTIONS:\n",
    "                    - Reply ONLY with your marker's position as two numbers between -1 and 1, separated by a comma.\n",
    "                    - DO NOT include any text or explanations in your response.\n",
    "                    \"\"\"}\n",
    "        ]\n",
    "        self.current_position = [0,0]\n",
    "        self.turn_result = {}\n",
    "        \n",
    "    def update_position_(self) -> None:\n",
    "        try:\n",
    "            \n",
    "            # Get opininon coordinates\n",
    "            completion = self.client.chat.completions.create(\n",
    "                model=self.model, temperature=self.temperature, \n",
    "                messages=self.messages\n",
    "            )\n",
    "            current_position =  completion.choices[0].message.content.replace('[', '').replace(']', '').split(',')\n",
    "            self.current_position = [float(pos) for pos in current_position]\n",
    "\n",
    "            # Add opininon coordinates to message\n",
    "            self.messages.append({\"role\": \"assistant\", \"content\":str(self.current_position)})\n",
    "            \n",
    "            DM_XY = self.turn_result['DM_XY']\n",
    "            distance = math.sqrt((DM_XY[0] - self.current_position[0]) ** 2 + (DM_XY[1] - self.current_position[1]) ** 2)\n",
    "            \n",
    "            # Check if position on top of the decision mark\n",
    "            if distance == 0:\n",
    "                self.messages.append({\"role\": \"user\", \"content\": \"You placed your marker on top of the Decision Marker. Read the instructions again and choose a new position.\"})\n",
    "                return self.update_postion(self.turn_result)\n",
    "\n",
    "            self.current_position\n",
    "        except Exception as e:\n",
    "            print(e)\n",
    "    \n",
    "    def inform(self,  turn_result: Dict) -> None:\n",
    "        self.turn_result = turn_result\n",
    "        self.messages.append({\"role\": \"user\", \"content\": str(self.turn_result)})\n",
    "        \n",
    "    def get_opinion(self) -> List:\n",
    "        self.update_position_()\n",
    "        return self.current_position"
   ]
  },
  {
   "cell_type": "code",
   "execution_count": 8,
   "metadata": {},
   "outputs": [],
   "source": [
    "class DecisionMarker():\n",
    "    \n",
    "    def __init__(self) -> None:\n",
    "        self.position = [0,0]\n",
    "        \n",
    "    def update_position(self, ATT_XY) -> None:\n",
    "        \"\"\"\n",
    "        Calculates and updates position of the marker for given attendee marker positions\n",
    "        \"\"\"\n",
    "        \n",
    "        initial_position = self.position\n",
    "        \n",
    "        total_weight = 0\n",
    "        final_x = 0\n",
    "        final_y = 0\n",
    "        \n",
    "        for a_x, a_y in ATT_XY:\n",
    "            distance = math.sqrt((initial_position[0] - a_x)**2 + (initial_position[1] - a_y)**2)\n",
    "            if distance == 0:\n",
    "                # Avoid division by zero, and truncate the effect of the relevant attendee\n",
    "                continue\n",
    "             \n",
    "            weight = 1 / distance ** 2\n",
    "            total_weight += weight \n",
    "            final_x += a_x * weight\n",
    "            final_y += a_y * weight\n",
    "            \n",
    "        final_x /= total_weight\n",
    "        final_y /= total_weight\n",
    "        \n",
    "        self.position = [final_x, final_y]\n",
    "        \n",
    "    def get_position(self) -> List:\n",
    "        return self.position"
   ]
  },
  {
   "cell_type": "code",
   "execution_count": 27,
   "metadata": {},
   "outputs": [],
   "source": [
    "class Moderator():\n",
    "    \n",
    "    def __init__(self, num_attendees: int=3) -> None:\n",
    "        \n",
    "        self.turn_num = 0\n",
    "        self.max_turns = 10\n",
    "        self.decision_marker = DecisionMarker()\n",
    "        self.attendees = [Attendee() for _ in range(num_attendees)]\n",
    "        self.option_xys = {'A':[1,1], 'B':[1,-1], 'C':[-1,1], 'D':[-1,-1]}\n",
    "        self.turn_results = [{\n",
    "            \"DM_XY\":[0.00, 0.00], \n",
    "            \"ATT_XY\":{i:[0,0] for i in range(num_attendees)}\n",
    "            }]\n",
    "        \n",
    "    def subjective_informer_(self, att_idx):\n",
    "        \"\"\"\n",
    "        This function exculdes the coordinate of it's own for each attendee\n",
    "        \"\"\"\n",
    "        subjective_info = {}\n",
    "        subjective_info['DM_XY'] = self.turn_results[self.turn_num]['DM_XY']\n",
    "        subjective_info['ATT_XY'] = {}\n",
    "        for i, _ in enumerate(self.attendees):\n",
    "            if att_idx == i:\n",
    "                continue\n",
    "            subjective_info['ATT_XY'][i] = self.turn_results[self.turn_num][\"ATT_XY\"][i]\n",
    "        return subjective_info\n",
    "        \n",
    "    def voting(self) -> None:\n",
    "        \n",
    "        att_positions = {}\n",
    "        for i, att in enumerate(self.attendees):\n",
    "            \n",
    "            # Get subjective data for each attendee and feed to attendees\n",
    "            info = self.subjective_informer_(i)\n",
    "            att.inform(info)\n",
    "            \n",
    "            # Get and store attendee opinions\n",
    "            att_positions[i] = att.get_opinion()\n",
    "            \n",
    "            \n",
    "        # Calculate and get the Decison Mark's position based on given opinions\n",
    "        self.decision_marker.update_position([coords for coords in att_positions.values()])\n",
    "        dm_position = self.decision_marker.get_position()\n",
    "        \n",
    "        # Save the turn's results\n",
    "        self.turn_results.append({\"DM_XY\": dm_position, \"ATT_XY\":att_positions})\n",
    "        \n",
    "        \n",
    "    def session(self) -> None:\n",
    "        for turn in range(self.max_turns):\n",
    "            self.voting()\n",
    "            self.turn_num = turn"
   ]
  },
  {
   "cell_type": "code",
   "execution_count": 28,
   "metadata": {},
   "outputs": [],
   "source": [
    "moderator = Moderator()"
   ]
  },
  {
   "cell_type": "code",
   "execution_count": 29,
   "metadata": {},
   "outputs": [],
   "source": [
    "moderator.session()"
   ]
  },
  {
   "cell_type": "code",
   "execution_count": 30,
   "metadata": {},
   "outputs": [
    {
     "data": {
      "text/plain": [
       "9"
      ]
     },
     "execution_count": 30,
     "metadata": {},
     "output_type": "execute_result"
    }
   ],
   "source": [
    "moderator.turn_num"
   ]
  },
  {
   "cell_type": "code",
   "execution_count": 31,
   "metadata": {},
   "outputs": [
    {
     "data": {
      "text/plain": [
       "[{'DM_XY': [0.0, 0.0], 'ATT_XY': {0: [0, 0], 1: [0, 0], 2: [0, 0]}},\n",
       " {'DM_XY': [0.13071895424836602, -0.13071895424836602],\n",
       "  'ATT_XY': {0: [0.8, -0.8], 1: [-0.5, -0.5], 2: [0.5, 0.5]}},\n",
       " {'DM_XY': [0.4193258748286954, 0.21342312806483382],\n",
       "  'ATT_XY': {0: [0.9, -0.9], 1: [0.5, 0.5], 2: [0.3, 0.3]}},\n",
       " {'DM_XY': [0.07327137224036559, -0.07327137224036559],\n",
       "  'ATT_XY': {0: [-0.2, 0.2], 1: [0.2, -0.2], 2: [0.1, -0.1]}},\n",
       " {'DM_XY': [0.4251646219214656, 0.24194103653577612],\n",
       "  'ATT_XY': {0: [0.7, 0.7], 1: [0.4, 0.2], 2: [0.4, 0.2]}},\n",
       " {'DM_XY': [0.04533010797435039, -0.04533010797435039],\n",
       "  'ATT_XY': {0: [0.1, -0.1], 1: [-0.1, 0.1], 2: [0.1, -0.1]}},\n",
       " {'DM_XY': [0.43577177571541414, 0.21788588785770707],\n",
       "  'ATT_XY': {0: [0.6, 0.3], 1: [0.4, 0.2], 2: [0.4, 0.2]}},\n",
       " {'DM_XY': [0.03569710395026432, -0.03569710395026432],\n",
       "  'ATT_XY': {0: [0.0, 0.0], 1: [0.1, -0.1], 2: [0.0, 0.0]}},\n",
       " {'DM_XY': [0.43584279652963065, 0.21792139826481532],\n",
       "  'ATT_XY': {0: [0.6, 0.3], 1: [0.4, 0.2], 2: [0.4, 0.2]}},\n",
       " {'DM_XY': [0.0, 0.0],\n",
       "  'ATT_XY': {0: [0.0, 0.0], 1: [0.0, 0.0], 2: [0.0, 0.0]}},\n",
       " {'DM_XY': [0.43636363636363634, 0.21818181818181817],\n",
       "  'ATT_XY': {0: [0.6, 0.3], 1: [0.4, 0.2], 2: [0.4, 0.2]}}]"
      ]
     },
     "execution_count": 31,
     "metadata": {},
     "output_type": "execute_result"
    }
   ],
   "source": [
    "moderator.turn_results"
   ]
  },
  {
   "cell_type": "markdown",
   "metadata": {},
   "source": [
    "# Assistant as Attendee"
   ]
  },
  {
   "cell_type": "code",
   "execution_count": 2,
   "metadata": {},
   "outputs": [],
   "source": [
    "client = OpenAI()"
   ]
  },
  {
   "cell_type": "code",
   "execution_count": 3,
   "metadata": {},
   "outputs": [],
   "source": [
    "ASSISTANT_ID = 'asst_4gAGM6MvPwgDxp1OT7qY51Yh'"
   ]
  },
  {
   "cell_type": "code",
   "execution_count": 4,
   "metadata": {},
   "outputs": [
    {
     "name": "stdout",
     "output_type": "stream",
     "text": [
      "👉 Run created: run_jYJh9w8yGIDU2UL0ktEutZL1\n",
      "🏃‍♂️ Run Status: in_progress\n",
      "🏃‍♂️ Run Status: completed\n",
      "🏁 Run Completed!\n",
      "💬 Response: 0.49, -0.49\n"
     ]
    }
   ],
   "source": [
    "# Create a thread with a message\n",
    "thread = client.beta.threads.create(\n",
    "    messages=[\n",
    "        {\n",
    "            \"role\": \"user\",\n",
    "            \"content\": \"{'DM_XY': [0.13071895424836602, -0.13071895424836602], 'ATT_XY': {0: [0.8, -0.8], 1: [-0.5, -0.5], 2: [0.5, 0.5]}}\"\n",
    "        }\n",
    "    ]\n",
    ")\n",
    "\n",
    "# Submit the thread to the assistant(as a new run)\n",
    "run = client.beta.threads.runs.create(thread_id=thread.id, assistant_id=ASSISTANT_ID,stream=True)\n",
    "\n",
    "print(f\"👉 Run created: {run.id}\")\n",
    "\n",
    "# wait for run to complete\n",
    "while run.status != 'completed':\n",
    "    run = client.beta.threads.runs.retrieve(thread_id=thread.id, run_id=run.id)\n",
    "    print(f\"🏃‍♂️ Run Status: {run.status}\")\n",
    "    time.sleep(1)\n",
    "else:\n",
    "    print(f\"🏁 Run Completed!\")\n",
    "    \n",
    "# Get the latest message from the thread.\n",
    "message_response = client.beta.threads.messages.list(thread_id=thread.id)\n",
    "messages = message_response.data\n",
    "\n",
    "# Print the latest message\n",
    "latest_message = messages[0]\n",
    "print(f\"💬 Response: {latest_message.content[0].text.value}\")"
   ]
  },
  {
   "cell_type": "code",
   "execution_count": 5,
   "metadata": {},
   "outputs": [],
   "source": [
    "m = client.beta.threads.messages.create(\n",
    "    thread_id=thread.id,\n",
    "    role=\"user\",\n",
    "    content=\"{'DM_XY': [0.13071895424836602, -0.13071895424836602], 'ATT_XY': {0: [0.8, -0.8], 1: [-0.5, -0.5], 2: [0.5, 0.5]}}\"\n",
    "    )"
   ]
  },
  {
   "cell_type": "code",
   "execution_count": 11,
   "metadata": {},
   "outputs": [
    {
     "data": {
      "text/plain": [
       "'completed'"
      ]
     },
     "execution_count": 11,
     "metadata": {},
     "output_type": "execute_result"
    }
   ],
   "source": [
    "run_2 = client.beta.threads.runs.retrieve(thread_id=thread.id, run_id=run.id)\n",
    "run_2.status"
   ]
  },
  {
   "cell_type": "code",
   "execution_count": 9,
   "metadata": {},
   "outputs": [
    {
     "name": "stdout",
     "output_type": "stream",
     "text": [
      "🏁 Run Completed!\n",
      "💬 Response: {'DM_XY': [0.13071895424836602, -0.13071895424836602], 'ATT_XY': {0: [0.8, -0.8], 1: [-0.5, -0.5], 2: [0.5, 0.5]}}\n"
     ]
    }
   ],
   "source": [
    "\n",
    "# wait for run to complete\n",
    "while run.status != 'completed':\n",
    "    run = client.beta.threads.runs.retrieve(thread_id=thread.id, run_id=run.id)\n",
    "    print(f\"🏃‍♂️ Run Status: {run.status}\")\n",
    "    time.sleep(1)\n",
    "else:\n",
    "    print(f\"🏁 Run Completed!\")\n",
    "    \n",
    "# Get the latest message from the thread.\n",
    "message_response = client.beta.threads.messages.list(thread_id=thread.id)\n",
    "messages = message_response.data\n",
    "\n",
    "# Print the latest message\n",
    "latest_message = messages[0]\n",
    "print(f\"💬 Response: {latest_message.content[0].text.value}\")"
   ]
  },
  {
   "cell_type": "code",
   "execution_count": 25,
   "metadata": {},
   "outputs": [
    {
     "data": {
      "text/plain": [
       "[ThreadMessage(id='msg_8p1WJG7NTJBjJYuBD9eqlqYe', assistant_id='asst_4gAGM6MvPwgDxp1OT7qY51Yh', content=[MessageContentText(text=Text(annotations=[], value='0.479, -0.479'), type='text')], created_at=1711369519, file_ids=[], metadata={}, object='thread.message', role='assistant', run_id='run_mwlY5LDrIucy0dpyPo3DiUkj', thread_id='thread_jlDPt2y2GOh3dInep9kZ3G54'),\n",
       " ThreadMessage(id='msg_FelpVD5OJLR7WzVIICBtN3mT', assistant_id=None, content=[MessageContentText(text=Text(annotations=[], value=\"{'DM_XY': [0.13071895424836602, -0.13071895424836602], 'ATT_XY': {0: [0.8, -0.8], 1: [-0.5, -0.5], 2: [0.5, 0.5]}}\"), type='text')], created_at=1711369491, file_ids=[], metadata={}, object='thread.message', role='user', run_id=None, thread_id='thread_jlDPt2y2GOh3dInep9kZ3G54'),\n",
       " ThreadMessage(id='msg_3SasO2RuksRHwWYn1jQraGZI', assistant_id='asst_4gAGM6MvPwgDxp1OT7qY51Yh', content=[MessageContentText(text=Text(annotations=[], value='0.729, -0.729'), type='text')], created_at=1711369120, file_ids=[], metadata={}, object='thread.message', role='assistant', run_id='run_atvvG2yKbov5PWUXJ7YVgSpi', thread_id='thread_jlDPt2y2GOh3dInep9kZ3G54'),\n",
       " ThreadMessage(id='msg_Gh4WMmB30hgn59DNvy200tiJ', assistant_id=None, content=[MessageContentText(text=Text(annotations=[], value=\"{'DM_XY': [0.13071895424836602, -0.13071895424836602], 'ATT_XY': {0: [0.8, -0.8], 1: [-0.5, -0.5], 2: [0.5, 0.5]}}\"), type='text')], created_at=1711369118, file_ids=[], metadata={}, object='thread.message', role='user', run_id=None, thread_id='thread_jlDPt2y2GOh3dInep9kZ3G54')]"
      ]
     },
     "execution_count": 25,
     "metadata": {},
     "output_type": "execute_result"
    }
   ],
   "source": [
    "client.beta.threads.messages.list(thread_id=thread.id).data"
   ]
  },
  {
   "cell_type": "code",
   "execution_count": 2,
   "metadata": {},
   "outputs": [],
   "source": [
    "# Resource: https://github.com/rokbenko/ai-playground/blob/main/openai-tutorials/6-TUI_customer_support_chatbot_streaming/tui_customer_support_chatbot_streaming.py\n",
    "import os\n",
    "from dotenv import load_dotenv\n",
    "from openai import OpenAI, AssistantEventHandler"
   ]
  },
  {
   "cell_type": "code",
   "execution_count": null,
   "metadata": {},
   "outputs": [],
   "source": [
    "# Resource: https://github.com/rokbenko/ai-playground/blob/main/openai-tutorials/6-TUI_customer_support_chatbot_streaming/tui_customer_support_chatbot_streaming.py\n",
    "import os\n",
    "from dotenv import load_dotenv\n",
    "from openai import OpenAI, AssistantEventHandler\n",
    "from rich.console import Console\n",
    "\n",
    "# Load environment variables from .env\n",
    "load_dotenv()\n",
    "\n",
    "# Set up OpenAI client\n",
    "client = OpenAI()\n",
    "OpenAI.api_key = os.getenv('OPENAI_API_KEY')\n",
    "\n",
    "# Set up rich console for output formatting\n",
    "console = Console()\n",
    "\n",
    "# Get file and assistant IDs from environment variables\n",
    "# file_id = os.getenv('OPENAI_FILE_ID')\n",
    "assistant_id = os.getenv('OPENAI_ASSISTANT_ID')\n",
    "\n",
    "# Define event handler class for streaming events\n",
    "class MyEventHandler(AssistantEventHandler):\n",
    "    def on_text_delta(self, delta, snapshot):\n",
    "        console.print(delta.value, end = \"\", style = \"black on white\")\n",
    "\n",
    "    def on_error(error):\n",
    "        print(error)\n",
    "\n",
    "# Create a new thread\n",
    "my_thread = client.beta.threads.create()\n",
    "\n",
    "# Loop until the user enters \"quit\"\n",
    "while True:\n",
    "    # Get user input\n",
    "    user_input = input(\"\\n\\nUser:\\n\")\n",
    "\n",
    "    # Check if the user wants to quit\n",
    "    if user_input.lower() == \"quit\":\n",
    "        console.print(\"\\nAssistant:\\nHave a nice day! :wave:\\n\\n\", style = \"black on white\")\n",
    "        break\n",
    "\n",
    "    # Add user message to the thread\n",
    "    my_thread_message = client.beta.threads.messages.create(\n",
    "        thread_id = my_thread.id,\n",
    "        role = \"user\",\n",
    "        content = user_input,\n",
    "        # file_ids = [file_id]\n",
    "    )\n",
    "\n",
    "    # Create and stream a run\n",
    "    with client.beta.threads.runs.create_and_stream(\n",
    "        thread_id = my_thread.id,\n",
    "        assistant_id = assistant_id,\n",
    "        event_handler = MyEventHandler(),\n",
    "    ) as stream:\n",
    "        console.print(\"\\nAssistant:\", style = \"black on white\")\n",
    "        stream.until_done()"
   ]
  }
 ],
 "metadata": {
  "kernelspec": {
   "display_name": "yam",
   "language": "python",
   "name": "python3"
  },
  "language_info": {
   "codemirror_mode": {
    "name": "ipython",
    "version": 3
   },
   "file_extension": ".py",
   "mimetype": "text/x-python",
   "name": "python",
   "nbconvert_exporter": "python",
   "pygments_lexer": "ipython3",
   "version": "3.11.0"
  }
 },
 "nbformat": 4,
 "nbformat_minor": 2
}
