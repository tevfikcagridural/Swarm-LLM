{
 "cells": [
  {
   "cell_type": "code",
   "execution_count": 1,
   "metadata": {},
   "outputs": [],
   "source": [
    "from langchain_openai import ChatOpenAI\n",
    "from dotenv import load_dotenv\n",
    "import os\n",
    "\n",
    "load_dotenv()\n",
    "llm = ChatOpenAI(openai_api_key=os.environ.get(\"OPENAI_API_KEY\"))"
   ]
  },
  {
   "cell_type": "code",
   "execution_count": 3,
   "metadata": {},
   "outputs": [
    {
     "data": {
      "text/plain": [
       "AIMessage(content='Langsmith can help with testing by providing automated testing tools and frameworks that allow developers to easily write and execute test cases for their code. This can help ensure that the code is functioning as expected and can help catch bugs and errors early in the development process. Langsmith can also provide support for integration testing, performance testing, and security testing to help ensure the overall quality and reliability of the software being developed. Additionally, Langsmith can provide insights and analytics on test coverage and test results to help developers make informed decisions about the quality of their code.', response_metadata={'token_usage': {'completion_tokens': 109, 'prompt_tokens': 15, 'total_tokens': 124}, 'model_name': 'gpt-3.5-turbo', 'system_fingerprint': 'fp_3bc1b5746c', 'finish_reason': 'stop', 'logprobs': None})"
      ]
     },
     "execution_count": 3,
     "metadata": {},
     "output_type": "execute_result"
    }
   ],
   "source": [
    "llm.invoke(\"how can langsmith help with testing?\")"
   ]
  },
  {
   "cell_type": "code",
   "execution_count": 5,
   "metadata": {},
   "outputs": [],
   "source": [
    "from langchain_core.prompts import ChatPromptTemplate\n",
    "prompt = ChatPromptTemplate.from_messages([\n",
    "    (\"system\", \"You are  world class technical documentation writer.\"),\n",
    "    (\"user\", \"{input}\")\n",
    "])"
   ]
  },
  {
   "cell_type": "code",
   "execution_count": 6,
   "metadata": {},
   "outputs": [],
   "source": [
    "chain = prompt | llm"
   ]
  },
  {
   "cell_type": "code",
   "execution_count": 7,
   "metadata": {},
   "outputs": [
    {
     "data": {
      "text/plain": [
       "AIMessage(content=\"Langsmith can help with testing by providing automated testing capabilities for natural language processing (NLP) models and other language-related software. Langsmith can generate test cases, run tests, and evaluate model performance, making the testing process more efficient and reliable. Additionally, Langsmith can help in creating test datasets, comparing different models, and identifying potential issues or improvements in the software being tested. By leveraging Langsmith's testing features, developers and testers can ensure the quality and accuracy of their language-related applications.\", response_metadata={'token_usage': {'completion_tokens': 100, 'prompt_tokens': 29, 'total_tokens': 129}, 'model_name': 'gpt-3.5-turbo', 'system_fingerprint': 'fp_3bc1b5746c', 'finish_reason': 'stop', 'logprobs': None})"
      ]
     },
     "execution_count": 7,
     "metadata": {},
     "output_type": "execute_result"
    }
   ],
   "source": [
    "chain.invoke({\"input\":\"how can langsmith helo with testing?\"})"
   ]
  },
  {
   "cell_type": "code",
   "execution_count": 8,
   "metadata": {},
   "outputs": [],
   "source": [
    "from langchain_core.output_parsers import StrOutputParser\n",
    "\n",
    "output_parser = StrOutputParser()"
   ]
  },
  {
   "cell_type": "code",
   "execution_count": 9,
   "metadata": {},
   "outputs": [],
   "source": [
    "chain = prompt | llm | output_parser"
   ]
  },
  {
   "cell_type": "code",
   "execution_count": 10,
   "metadata": {},
   "outputs": [
    {
     "data": {
      "text/plain": [
       "\"Langsmith can help with testing in various ways by providing tools and capabilities that support testing processes and activities. Here are some ways Langsmith can assist with testing:\\n\\n1. Automated Testing: Langsmith can be used to automate testing processes, such as running test scripts, executing test cases, and generating test reports. This helps in improving testing efficiency and accuracy.\\n\\n2. Test Data Generation: Langsmith can assist in generating test data for different scenarios, helping testers to create diverse and comprehensive test cases to cover various use cases.\\n\\n3. Test Environment Setup: Langsmith can help in setting up test environments quickly and efficiently, ensuring that the required configurations and dependencies are met before running tests.\\n\\n4. Integration Testing: Langsmith can be used to perform integration testing by simulating interactions between different components or systems to ensure they work together seamlessly.\\n\\n5. Performance Testing: Langsmith can support performance testing by providing tools to simulate high loads, stress conditions, and analyze system performance metrics.\\n\\n6. Continuous Testing: Langsmith can be integrated into continuous integration and continuous deployment pipelines to enable automated testing at every stage of the software development lifecycle.\\n\\nBy leveraging Langsmith's capabilities, testers can streamline their testing processes, improve test coverage, and deliver high-quality software products to end-users.\""
      ]
     },
     "execution_count": 10,
     "metadata": {},
     "output_type": "execute_result"
    }
   ],
   "source": [
    "chain.invoke({\"input\":\"how can langsmith help with testing?\"})"
   ]
  },
  {
   "cell_type": "code",
   "execution_count": null,
   "metadata": {},
   "outputs": [],
   "source": []
  }
 ],
 "metadata": {
  "kernelspec": {
   "display_name": "swarmllm",
   "language": "python",
   "name": "python3"
  },
  "language_info": {
   "codemirror_mode": {
    "name": "ipython",
    "version": 3
   },
   "file_extension": ".py",
   "mimetype": "text/x-python",
   "name": "python",
   "nbconvert_exporter": "python",
   "pygments_lexer": "ipython3",
   "version": "3.11.0"
  }
 },
 "nbformat": 4,
 "nbformat_minor": 2
}
